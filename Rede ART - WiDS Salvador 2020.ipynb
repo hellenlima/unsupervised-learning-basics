{
 "cells": [
  {
   "cell_type": "code",
   "execution_count": 1,
   "metadata": {
    "ExecuteTime": {
     "end_time": "2020-07-30T17:51:53.905989Z",
     "start_time": "2020-07-30T17:51:51.850814Z"
    }
   },
   "outputs": [],
   "source": [
    "from random import randrange\n",
    "\n",
    "import pandas as pd\n",
    "import numpy as np\n",
    "import altair as alt\n",
    "\n",
    "from sklearn.datasets import fetch_openml\n",
    "from sklearn.metrics import silhouette_score\n",
    "from sklearn.manifold import TSNE\n",
    "from sklearn.model_selection import train_test_split\n",
    "\n",
    "import matplotlib.pyplot as plt\n",
    "%matplotlib inline"
   ]
  },
  {
   "cell_type": "code",
   "execution_count": 2,
   "metadata": {
    "ExecuteTime": {
     "end_time": "2020-07-30T17:51:53.925146Z",
     "start_time": "2020-07-30T17:51:53.909561Z"
    }
   },
   "outputs": [],
   "source": [
    "plt.rcParams['lines.linewidth'] = 2\n",
    "plt.rcParams['legend.handlelength'] = 3\n",
    "plt.rcParams['legend.borderpad'] = 0.3\n",
    "plt.rcParams['legend.numpoints'] = 1"
   ]
  },
  {
   "cell_type": "markdown",
   "metadata": {},
   "source": [
    "# Carregando os dados - MNIST\n",
    "Descrição do site de onde os dados são baixados:\n",
    "\n",
    "\"The MNIST database of handwritten digits with 784 features, raw data available at: http://yann.lecun.com/exdb/mnist/. It can be split in a training set of the first 60,000 examples, and a test set of 10,000 examples\""
   ]
  },
  {
   "cell_type": "code",
   "execution_count": 3,
   "metadata": {
    "ExecuteTime": {
     "end_time": "2020-07-30T17:52:26.950471Z",
     "start_time": "2020-07-30T17:51:53.937500Z"
    }
   },
   "outputs": [],
   "source": [
    "mnist = fetch_openml('mnist_784')"
   ]
  },
  {
   "cell_type": "code",
   "execution_count": 4,
   "metadata": {
    "ExecuteTime": {
     "end_time": "2020-07-30T17:52:26.975150Z",
     "start_time": "2020-07-30T17:52:26.954177Z"
    }
   },
   "outputs": [
    {
     "name": "stdout",
     "output_type": "stream",
     "text": [
      "Tamanho do vetor de dados: (70000, 784)\n",
      "Tamanho do vetor de alvos: (70000,)\n"
     ]
    }
   ],
   "source": [
    "print(\"Tamanho do vetor de dados:\", mnist.data.shape)\n",
    "print(\"Tamanho do vetor de alvos:\", mnist.target.shape)"
   ]
  },
  {
   "cell_type": "markdown",
   "metadata": {},
   "source": [
    "## Separando o conjunto de treino e teste\n",
    "\n",
    "- Vale ressaltar que o ideal, para garantir a generalização do modelo, é separar o conjunto de treinamento em \"K folds\", realizando uma validação cruzada. Para diminuir o tempo de execução e simplificar este tutorial, dividiremos apenas em 2 folds\n",
    "- Uma boa prática seria executar o algoritmo algumas vezes variando ambas as condições, calcular a média dos centroides encontrados e, por fim, usar esta média como os centroides iniciais da última execução\n",
    "\n",
    "- O conjunto de teste (últimas 10000 entradas), segundo a fonte, foi gerado de maneira independente do conjunto de treino"
   ]
  },
  {
   "cell_type": "code",
   "execution_count": 5,
   "metadata": {
    "ExecuteTime": {
     "end_time": "2020-07-30T17:52:27.007106Z",
     "start_time": "2020-07-30T17:52:26.993917Z"
    }
   },
   "outputs": [],
   "source": [
    "n_train_samples = 10000\n",
    "n_test_samples = 1000"
   ]
  },
  {
   "cell_type": "code",
   "execution_count": 6,
   "metadata": {
    "ExecuteTime": {
     "end_time": "2020-07-30T17:52:27.019723Z",
     "start_time": "2020-07-30T17:52:27.010211Z"
    }
   },
   "outputs": [],
   "source": [
    "X_train = mnist.data[0:n_train_samples]\n",
    "y_train = mnist.target[0:n_train_samples]\n",
    "\n",
    "X_test = mnist.data[60000:60000 + n_test_samples]\n",
    "y_test = mnist.target[60000:60000 + n_test_samples]\n",
    "y_test_int = y_test.astype(int)"
   ]
  },
  {
   "cell_type": "markdown",
   "metadata": {},
   "source": [
    "## Visualizando uma amostra aleatória"
   ]
  },
  {
   "cell_type": "code",
   "execution_count": 7,
   "metadata": {
    "ExecuteTime": {
     "end_time": "2020-07-30T17:52:27.030647Z",
     "start_time": "2020-07-30T17:52:27.023331Z"
    }
   },
   "outputs": [],
   "source": [
    "def plot_digit(data, label=None):\n",
    "    img = data.reshape(28,28)\n",
    "    plt.figure()\n",
    "    plt.imshow(img,cmap='gray',interpolation=\"nearest\")\n",
    "    if label is not None:\n",
    "        plt.title(\"Label: %s\" %label)\n",
    "    plt.axis('off');"
   ]
  },
  {
   "cell_type": "code",
   "execution_count": 8,
   "metadata": {
    "ExecuteTime": {
     "end_time": "2020-07-30T17:52:27.225955Z",
     "start_time": "2020-07-30T17:52:27.036559Z"
    }
   },
   "outputs": [
    {
     "data": {
      "image/png": "[encoded data removed]",
      "text/plain": [
       "<Figure size 432x288 with 1 Axes>"
      ]
     },
     "metadata": {
      "needs_background": "light"
     },
     "output_type": "display_data"
    }
   ],
   "source": [
    "select = randrange(n_train_samples)\n",
    "label = y_train[select]\n",
    "\n",
    "plot_digit(X_train[select], label)"
   ]
  },
  {
   "cell_type": "markdown",
   "metadata": {},
   "source": [
    "# Pré-processamento\n",
    "- Normalização (sim ou não?)\n",
    "- Aqui na Rede ART, vamos experimentar escalar os valores dos pixels para entre 0 e 1"
   ]
  },
  {
   "cell_type": "code",
   "execution_count": 9,
   "metadata": {
    "ExecuteTime": {
     "end_time": "2020-07-30T17:52:27.271248Z",
     "start_time": "2020-07-30T17:52:27.236440Z"
    }
   },
   "outputs": [],
   "source": [
    "# Scaling\n",
    "X_train /= 255 \n",
    "X_test /= 255"
   ]
  },
  {
   "cell_type": "code",
   "execution_count": 10,
   "metadata": {
    "ExecuteTime": {
     "end_time": "2020-07-30T17:52:27.406195Z",
     "start_time": "2020-07-30T17:52:27.289566Z"
    }
   },
   "outputs": [
    {
     "data": {
      "image/png": "[encoded data removed]",
      "text/plain": [
       "<Figure size 432x288 with 1 Axes>"
      ]
     },
     "metadata": {
      "needs_background": "light"
     },
     "output_type": "display_data"
    }
   ],
   "source": [
    "select = randrange(n_train_samples)\n",
    "label = y_train[select]\n",
    "\n",
    "plot_digit(X_train[select], label)"
   ]
  },
  {
   "cell_type": "markdown",
   "metadata": {},
   "source": [
    "# Treinamento da ARTNet\n",
    "- Source code: https://github.com/hellenlima/unsupervised-learning-basics/blob/master/artnet.py"
   ]
  },
  {
   "cell_type": "code",
   "execution_count": 11,
   "metadata": {
    "ExecuteTime": {
     "end_time": "2020-07-30T17:52:27.419807Z",
     "start_time": "2020-07-30T17:52:27.410699Z"
    }
   },
   "outputs": [],
   "source": [
    "from artnet import ARTNet"
   ]
  },
  {
   "cell_type": "code",
   "execution_count": 12,
   "metadata": {
    "ExecuteTime": {
     "end_time": "2020-07-30T17:52:27.443586Z",
     "start_time": "2020-07-30T17:52:27.429663Z"
    }
   },
   "outputs": [],
   "source": [
    "n_samples = 5000"
   ]
  },
  {
   "cell_type": "code",
   "execution_count": 13,
   "metadata": {
    "ExecuteTime": {
     "end_time": "2020-07-30T17:52:27.471730Z",
     "start_time": "2020-07-30T17:52:27.450691Z"
    }
   },
   "outputs": [],
   "source": [
    "artnet = ARTNet(similarity_radius=7, learning_rate=0.05)"
   ]
  },
  {
   "cell_type": "code",
   "execution_count": 14,
   "metadata": {
    "ExecuteTime": {
     "end_time": "2020-07-30T17:52:27.526114Z",
     "start_time": "2020-07-30T17:52:27.499740Z"
    }
   },
   "outputs": [
    {
     "data": {
      "text/plain": [
       "(array(['0', '1', '2', '3', '4', '5', '6', '7', '8', '9'], dtype=object),\n",
       " array([479, 563, 488, 493, 535, 434, 501, 550, 462, 495]))"
      ]
     },
     "execution_count": 14,
     "metadata": {},
     "output_type": "execute_result"
    }
   ],
   "source": [
    "np.unique(y_train[0:n_samples], return_counts=True)"
   ]
  },
  {
   "cell_type": "code",
   "execution_count": 15,
   "metadata": {
    "ExecuteTime": {
     "end_time": "2020-07-30T17:52:34.141079Z",
     "start_time": "2020-07-30T17:52:27.530622Z"
    }
   },
   "outputs": [
    {
     "data": {
      "text/plain": [
       "<artnet.ARTNet at 0x125dd7dd0>"
      ]
     },
     "execution_count": 15,
     "metadata": {},
     "output_type": "execute_result"
    }
   ],
   "source": [
    "artnet.fit(X_train[0:n_samples])"
   ]
  },
  {
   "cell_type": "code",
   "execution_count": 16,
   "metadata": {
    "ExecuteTime": {
     "end_time": "2020-07-30T17:52:34.152944Z",
     "start_time": "2020-07-30T17:52:34.144582Z"
    }
   },
   "outputs": [
    {
     "data": {
      "text/plain": [
       "(609, 784)"
      ]
     },
     "execution_count": 16,
     "metadata": {},
     "output_type": "execute_result"
    }
   ],
   "source": [
    "artnet.neurons.shape"
   ]
  },
  {
   "cell_type": "markdown",
   "metadata": {},
   "source": [
    "## Definindo algumas funções"
   ]
  },
  {
   "cell_type": "code",
   "execution_count": 17,
   "metadata": {
    "ExecuteTime": {
     "end_time": "2020-07-30T17:52:34.245908Z",
     "start_time": "2020-07-30T17:52:34.158264Z"
    },
    "code_folding": [
     0,
     15
    ]
   },
   "outputs": [],
   "source": [
    "def get_most_freq_digit(real_labels, predicted_labels, n_clusters):\n",
    "    # criando uma lista com todos os IDs de clusters que foram previstos no conjunto de teste\n",
    "    id_clusters = np.unique(predicted_labels)\n",
    "\n",
    "    most_freq = np.zeros(n_clusters) # inicializando o vetor que conterá os dígitos mais frequentes em cada cluster\n",
    "    for icluster in range(n_clusters):  \n",
    "        # selecionando as labels das entradas que foram previstas como icluster\n",
    "        labels = real_labels[predicted_labels==id_clusters[icluster]]\n",
    "    \n",
    "        # selecionando qual a label foi mais frequente para este cluster (icluster)\n",
    "        most_freq[icluster] = np.argmax(np.bincount(labels))\n",
    "    \n",
    "    return most_freq\n",
    "\n",
    "\n",
    "def calculate_accuracy(y_true, y_pred, most_freq):\n",
    "    \"\"\"\n",
    "    Parameters\n",
    "    ----------\n",
    "    y_true : array_like\n",
    "             List of expected values\n",
    "    y_pred : array_like\n",
    "             List of predicted values\n",
    "    most_freq: array_like\n",
    "               List containing the most frequent(or the predominant) labels for each cluster ID\n",
    "                \n",
    "    Returns\n",
    "    -------\n",
    "    float\n",
    "        Returns calculated accuracy\n",
    "    \"\"\"\n",
    "    \n",
    "    # most_freq contains the most frequents digits in each cluster\n",
    "    count = 0;\n",
    "    for ievent in range(len(y_true)):\n",
    "        cluster_predict = int(y_pred[ievent]) # prediction\n",
    "        if int(y_true[ievent]) == int(most_freq[cluster_predict]):\n",
    "            count = count+1\n",
    "            \n",
    "    accuracy = count/float(len(y_true))\n",
    "    return accuracy"
   ]
  },
  {
   "cell_type": "markdown",
   "metadata": {},
   "source": [
    "## Raio de similaridade"
   ]
  },
  {
   "cell_type": "code",
   "execution_count": 18,
   "metadata": {
    "ExecuteTime": {
     "end_time": "2020-07-30T17:52:57.161052Z",
     "start_time": "2020-07-30T17:52:34.248906Z"
    }
   },
   "outputs": [],
   "source": [
    "n_neurons = {}\n",
    "accuracy = {}\n",
    "for similarity_radius in np.arange(8, 11, 0.5):\n",
    "    artnet = ARTNet(similarity_radius=similarity_radius, learning_rate=0.1)\n",
    "    artnet.fit(X_train[0:n_samples])\n",
    "    n_neurons[similarity_radius] = artnet.neurons.shape[0]\n",
    "    \n",
    "    predicted = artnet.predict(X_train[0:n_samples])\n",
    "    most_freq = get_most_freq_digit(y_train[0:n_samples].astype(int),\n",
    "                                    predicted,\n",
    "                                    n_neurons[similarity_radius])\n",
    "    \n",
    "    accuracy_i = calculate_accuracy(y_train[0:n_samples], predicted, most_freq)\n",
    "    \n",
    "    accuracy[similarity_radius] = accuracy_i"
   ]
  },
  {
   "cell_type": "code",
   "execution_count": 19,
   "metadata": {
    "ExecuteTime": {
     "end_time": "2020-07-30T17:52:57.179301Z",
     "start_time": "2020-07-30T17:52:57.164351Z"
    }
   },
   "outputs": [
    {
     "data": {
      "text/plain": [
       "{8.0: 143, 8.5: 54, 9.0: 29, 9.5: 17, 10.0: 8, 10.5: 4}"
      ]
     },
     "execution_count": 19,
     "metadata": {},
     "output_type": "execute_result"
    }
   ],
   "source": [
    "n_neurons"
   ]
  },
  {
   "cell_type": "markdown",
   "metadata": {},
   "source": [
    "Apenas para fins didáticos, como será que a acurácia varia com esses raios?"
   ]
  },
  {
   "cell_type": "markdown",
   "metadata": {},
   "source": [
    "## Como está a acurácia?"
   ]
  },
  {
   "cell_type": "code",
   "execution_count": 20,
   "metadata": {
    "ExecuteTime": {
     "end_time": "2020-07-30T17:52:57.194059Z",
     "start_time": "2020-07-30T17:52:57.186082Z"
    }
   },
   "outputs": [
    {
     "data": {
      "text/plain": [
       "{8.0: 0.0604, 8.5: 0.0232, 9.0: 0.058, 9.5: 0.0212, 10.0: 0.0396, 10.5: 0.0578}"
      ]
     },
     "execution_count": 20,
     "metadata": {},
     "output_type": "execute_result"
    }
   ],
   "source": [
    "accuracy"
   ]
  },
  {
   "cell_type": "markdown",
   "metadata": {},
   "source": [
    "- Essa métrica não existiria para qualquer dataset essencialmente não supervisionado\n",
    "- Nesse caso, definimos um \"acerto\" como um dígito classificado de acordo com o mais frequente naquele cluster (neurônio). Porém, a rede está sendo treinada para agrupá-los por *similaridade*, de acordo com a cor dos pixels. Pode ser que haja casos de dígitos diferentes que são \"similares\" segundo os dados que a rede tem conhecimento. "
   ]
  },
  {
   "cell_type": "markdown",
   "metadata": {},
   "source": [
    "## Escolha do raio de similaridade: "
   ]
  },
  {
   "cell_type": "code",
   "execution_count": 21,
   "metadata": {
    "ExecuteTime": {
     "end_time": "2020-07-30T17:52:57.203026Z",
     "start_time": "2020-07-30T17:52:57.198054Z"
    }
   },
   "outputs": [],
   "source": [
    "chosen_sr = 9"
   ]
  },
  {
   "cell_type": "code",
   "execution_count": 22,
   "metadata": {
    "ExecuteTime": {
     "end_time": "2020-07-30T17:52:59.341823Z",
     "start_time": "2020-07-30T17:52:57.207772Z"
    }
   },
   "outputs": [
    {
     "data": {
      "text/plain": [
       "<artnet.ARTNet at 0x125de2790>"
      ]
     },
     "execution_count": 22,
     "metadata": {},
     "output_type": "execute_result"
    }
   ],
   "source": [
    "artnet = ARTNet(similarity_radius=chosen_sr, learning_rate=0.1)\n",
    "artnet.fit(X_train[1:5000])"
   ]
  },
  {
   "cell_type": "code",
   "execution_count": 23,
   "metadata": {
    "ExecuteTime": {
     "end_time": "2020-07-30T17:52:59.352941Z",
     "start_time": "2020-07-30T17:52:59.344957Z"
    }
   },
   "outputs": [
    {
     "data": {
      "text/plain": [
       "(27, 784)"
      ]
     },
     "execution_count": 23,
     "metadata": {},
     "output_type": "execute_result"
    }
   ],
   "source": [
    "artnet.neurons.shape"
   ]
  },
  {
   "cell_type": "code",
   "execution_count": 24,
   "metadata": {
    "ExecuteTime": {
     "end_time": "2020-07-30T17:53:02.436436Z",
     "start_time": "2020-07-30T17:52:59.356359Z"
    }
   },
   "outputs": [],
   "source": [
    "x_train_predicted = artnet.predict(X_train[1:])"
   ]
  },
  {
   "cell_type": "code",
   "execution_count": 25,
   "metadata": {
    "ExecuteTime": {
     "end_time": "2020-07-30T17:53:02.457144Z",
     "start_time": "2020-07-30T17:53:02.439513Z"
    }
   },
   "outputs": [
    {
     "data": {
      "text/plain": [
       "(array([-1,  0,  1,  2,  3,  4,  5,  6,  7,  8,  9, 10, 11, 12, 13, 14, 15,\n",
       "        16, 17, 18, 19, 20, 21, 22, 23, 24, 25, 26]),\n",
       " array([  25,  524,    7, 1241, 1293, 1075,  342,  808,    9,  541,   87,\n",
       "         331,  349,  420,  131,  953,  247,  718,    1,  637,    4,  231,\n",
       "           2,    4,    2,    7,    2,    8]))"
      ]
     },
     "execution_count": 25,
     "metadata": {},
     "output_type": "execute_result"
    }
   ],
   "source": [
    "np.unique(x_train_predicted, return_counts=True)"
   ]
  },
  {
   "cell_type": "code",
   "execution_count": 26,
   "metadata": {
    "ExecuteTime": {
     "end_time": "2020-07-30T17:53:02.469613Z",
     "start_time": "2020-07-30T17:53:02.464105Z"
    }
   },
   "outputs": [],
   "source": [
    "cluster_id = 20"
   ]
  },
  {
   "cell_type": "code",
   "execution_count": 27,
   "metadata": {
    "ExecuteTime": {
     "end_time": "2020-07-30T17:53:04.551940Z",
     "start_time": "2020-07-30T17:53:02.483414Z"
    }
   },
   "outputs": [
    {
     "data": {
      "image/png": "[encoded data removed]",
      "text/plain": [
       "<Figure size 864x216 with 36 Axes>"
      ]
     },
     "metadata": {
      "needs_background": "light"
     },
     "output_type": "display_data"
    }
   ],
   "source": [
    "num_row = 3\n",
    "num_col = 12\n",
    "num = num_row*num_col\n",
    "\n",
    "cluster_data = X_train[1:][np.array(x_train_predicted) == cluster_id]\n",
    "fig, axes = plt.subplots(num_row, num_col, figsize=(num_col,num_row))\n",
    "\n",
    "for i in range(num):\n",
    "    ax = axes[i//num_col, i%num_col]\n",
    "    ax.imshow(cluster_data[i].reshape(28,28), cmap='gray')\n",
    "    ax.axis('off')\n",
    "\n",
    "plt.tight_layout()\n",
    "\n",
    "plt.show()"
   ]
  },
  {
   "cell_type": "markdown",
   "metadata": {},
   "source": [
    "# Plotando os pesos dos neurônios"
   ]
  },
  {
   "cell_type": "code",
   "execution_count": 28,
   "metadata": {
    "ExecuteTime": {
     "end_time": "2020-07-30T17:53:08.142860Z",
     "start_time": "2020-07-30T17:53:04.554535Z"
    }
   },
   "outputs": [
    {
     "data": {
      "image/png": "[encoded data removed]",
      "text/plain": [
       "<Figure size 1080x216 with 27 Axes>"
      ]
     },
     "metadata": {
      "needs_background": "light"
     },
     "output_type": "display_data"
    }
   ],
   "source": [
    "nrows = 1\n",
    "ncols = artnet.neurons.shape[0]\n",
    "irow = 0\n",
    "icolumn = 0\n",
    "\n",
    "fig, ax = plt.subplots(figsize=(15,3),nrows=nrows, ncols=ncols)\n",
    "\n",
    "for cluster in range(ncols):\n",
    "    img = artnet.neurons[cluster];\n",
    "    img = img.reshape(28,28);\n",
    "\n",
    "    ax[icolumn].imshow(img, cmap='gray', interpolation=\"nearest\")\n",
    "#     ax[icolumn].set_title(str(int(most_freq_10[cluster])))\n",
    "    ax[icolumn].text(0, 35, 'id: %s' % cluster)\n",
    "    \n",
    "    ax[icolumn].get_xaxis().set_visible(False)\n",
    "    ax[icolumn].get_yaxis().set_visible(False)\n",
    "    \n",
    "    icolumn = icolumn + 1\n",
    "\n",
    "plt.suptitle('Neurons Weights', y=0.75);"
   ]
  },
  {
   "cell_type": "markdown",
   "metadata": {},
   "source": [
    "# Sugestões de estudo\n",
    "\n",
    "- Variar mais o raio de similaridade e a learning rate (GridSearch) e plotar a curva das métricas\n",
    "    - distâncias intra e extra cluster\n",
    "    - índice silhueta\n",
    "    - índice Davies-Bouldin"
   ]
  }
 ],
 "metadata": {
  "kernelspec": {
   "display_name": "Python 3",
   "language": "python",
   "name": "python3"
  },
  "language_info": {
   "codemirror_mode": {
    "name": "ipython",
    "version": 3
   },
   "file_extension": ".py",
   "mimetype": "text/x-python",
   "name": "python",
   "nbconvert_exporter": "python",
   "pygments_lexer": "ipython3",
   "version": "3.7.6"
  },
  "toc": {
   "base_numbering": 1,
   "nav_menu": {},
   "number_sections": true,
   "sideBar": true,
   "skip_h1_title": false,
   "title_cell": "Table of Contents",
   "title_sidebar": "Contents",
   "toc_cell": false,
   "toc_position": {},
   "toc_section_display": true,
   "toc_window_display": false
  }
 },
 "nbformat": 4,
 "nbformat_minor": 4
}
